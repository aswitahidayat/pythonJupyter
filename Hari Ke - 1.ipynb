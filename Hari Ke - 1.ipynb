{
 "cells": [
  {
   "cell_type": "markdown",
   "metadata": {},
   "source": [
    "\n",
    "## ================= Python Basic Variable ================= \n"
   ]
  },
  {
   "cell_type": "code",
   "execution_count": null,
   "metadata": {},
   "outputs": [],
   "source": [
    "statements = \"Hello\"\n",
    "name = \"nama kalian\"\n",
    "tgl = 20\n",
    "tahun = 1992\n",
    "\n",
    "print(statements)\n",
    "print(statements, name, 2019-tahun)\n",
    "print(statements + name + str(2019-tahun))"
   ]
  },
  {
   "cell_type": "markdown",
   "metadata": {},
   "source": [
    "\n",
    "## ================= Python Date ================="
   ]
  },
  {
   "cell_type": "code",
   "execution_count": 14,
   "metadata": {},
   "outputs": [
    {
     "name": "stdout",
     "output_type": "stream",
     "text": [
      "================= Python Date =================\n",
      "01 June 2018 13:02\n",
      "01 June 2018 13:02\n",
      "2019-11-21 12:43:50\n"
     ]
    }
   ],
   "source": [
    "from datetime import datetime\n",
    "\n",
    "x = datetime(2018, 6, 1, 13, 2)\n",
    "\n",
    "print(x.strftime(\"%d %B %Y %H:%M\"))\n",
    "print(datetime.strftime(x, \"%d %B %Y %H:%M\"))\n",
    "print(datetime.strptime(\"21/11/2019:12:43:50\", \"%d/%m/%Y:%H:%M:%S\"))"
   ]
  },
  {
   "cell_type": "markdown",
   "metadata": {},
   "source": [
    "\n",
    "## ================= Python List =================\n"
   ]
  },
  {
   "cell_type": "code",
   "execution_count": 22,
   "metadata": {},
   "outputs": [
    {
     "name": "stdout",
     "output_type": "stream",
     "text": [
      "================= Python List =================\n",
      "years *2 [2019, 2018, 2017, 2016, 2019, 2018, 2017, 2016]\n",
      "append extend [2019, 2018, 2017, 2016, 2015, 2015, 2015, 2015]\n",
      "years.remove [2019, 2018, 2017, 2016, 2015, 2015, 2015]\n"
     ]
    }
   ],
   "source": [
    "years = [2019, 2018, 2017, 2016]\n",
    "mounths = [\"January\", \"Febuari\", \"Maret\", \"April\", \"Mei\"]\n",
    "Dates = ['27/07/2019', '20/09/1992']\n",
    "\n",
    "print(\"years *2\",years *2)\n",
    "\n",
    "years.append(2015)\n",
    "years.extend([2015, 2015, 2015])\n",
    "print(\"append extend\",years)\n",
    "\n",
    "years.remove(2015)\n",
    "print(\"years.remove\", years)"
   ]
  },
  {
   "cell_type": "markdown",
   "metadata": {},
   "source": [
    "\n",
    "## ================= Python Tuples ================="
   ]
  },
  {
   "cell_type": "code",
   "execution_count": 44,
   "metadata": {},
   "outputs": [
    {
     "name": "stdout",
     "output_type": "stream",
     "text": [
      "================= Python Tuples =================\n",
      "years: (2019, 2018, 2017, 2016)\n",
      "years[0]:  2019\n",
      "years[1:3]:  (2018, 2017)\n",
      "2020, years[0], years[2:4]: (2020, 2019, (2017, 2016))\n",
      "len 4\n"
     ]
    }
   ],
   "source": [
    "years = (2019, 2018, 2017, 2016)\n",
    "mounths = (\"January\", \"Febuari\", \"Maret\", \"April\", \"Mei\")\n",
    "Dates = ('27/07/2019', '20/09/1992')\n",
    "\n",
    "print (\"years:\", years)\n",
    "print (\"years[0]: \", years[0]);\n",
    "print (\"years[1:3]: \", years[1:3]);\n",
    "\n",
    "new_years = 2020, years[0], years[2:4]\n",
    "print(\"2020, years[0], years[2:4]:\",new_years)\n",
    "print(\"len\", len(years))"
   ]
  },
  {
   "cell_type": "markdown",
   "metadata": {},
   "source": [
    "\n",
    "## ================= Python Dictionary ================="
   ]
  },
  {
   "cell_type": "code",
   "execution_count": 55,
   "metadata": {},
   "outputs": [
    {
     "name": "stdout",
     "output_type": "stream",
     "text": [
      "years: {'Pig': '2019', 'Dog': '2018', 'Chicken': '2017', 'Monyet': '2016'}\n",
      "del years[\"Dog\"] {'Pig': '2019', 'Chicken': '2017', 'Monyet': '2016'}\n",
      "{'Chicken': '2017', 'Monyet': '2016'}\n",
      "update years[\"Dog\"] {'Chicken': '2017', 'Monyet': '2016', 'Kambing': '2015'}\n",
      "dict_values(['2017', '2016', '2015'])\n",
      "dict_keys(['Chicken', 'Monyet', 'Kambing'])\n"
     ]
    }
   ],
   "source": [
    "years = {\"Pig\": \"2019\", 'Dog': '2018', \"Chicken\": \"2017\", \"Monyet\":\"2016\"}\n",
    "print(\"years:\",years)\n",
    "\n",
    "del years[\"Dog\"]\n",
    "print(\"del years[\\\"Dog\\\"]\",years)\n",
    "\n",
    "years.pop(\"Pig\")\n",
    "print(years)\n",
    "\n",
    "years.update({\"Kambing\": \"2015\"})\n",
    "print(\"update years[\\\"Dog\\\"]\", years)\n",
    "\n",
    "print(years.values())\n",
    "print(years.keys())"
   ]
  },
  {
   "cell_type": "markdown",
   "metadata": {},
   "source": [
    "\n",
    "## ================= Python File ================="
   ]
  },
  {
   "cell_type": "code",
   "execution_count": 60,
   "metadata": {},
   "outputs": [],
   "source": [
    "myfile = open('myfile.txt', 'w')\n",
    "myfile.write('halo text file!\\n') # 16\n",
    "myfile.write('selamat tinggal text file!\\n') # 27\n",
    "myfile.close()"
   ]
  },
  {
   "cell_type": "code",
   "execution_count": 65,
   "metadata": {},
   "outputs": [],
   "source": [
    "coba = [\n",
    "  {\"nama\": \"intel\", \"type\": \"processor\", \"m\": \"a\"}, \n",
    "  {\"nama\": \"razer\", \"jenis\": \"mouse\"}, \n",
    "  {\"nama\" : \"apache\", \"type\": [\"war machine\", \"vehicle\"]}\n",
    "]\n",
    "\n",
    "myfile = open('coba.json', 'w')\n",
    "myfile.write(json.dumps(coba) )\n",
    "myfile.close()"
   ]
  },
  {
   "cell_type": "code",
   "execution_count": null,
   "metadata": {},
   "outputs": [],
   "source": []
  }
 ],
 "metadata": {
  "kernelspec": {
   "display_name": "Python 3",
   "language": "python",
   "name": "python3"
  },
  "language_info": {
   "codemirror_mode": {
    "name": "ipython",
    "version": 3
   },
   "file_extension": ".py",
   "mimetype": "text/x-python",
   "name": "python",
   "nbconvert_exporter": "python",
   "pygments_lexer": "ipython3",
   "version": "3.6.5"
  }
 },
 "nbformat": 4,
 "nbformat_minor": 2
}
