{
 "cells": [
  {
   "cell_type": "markdown",
   "metadata": {},
   "source": [
    "## ================= Numpy ================="
   ]
  },
  {
   "cell_type": "code",
   "execution_count": 7,
   "metadata": {},
   "outputs": [
    {
     "name": "stdout",
     "output_type": "stream",
     "text": [
      "[21.68163265 17.43905896 20.46296296 27.03214188 22.8983579 ]\n"
     ]
    }
   ],
   "source": [
    "import numpy as np\n",
    "import json\n",
    "\n",
    "height = [1.75, 1.68, 1.8, 1.81, 1.69]\n",
    "weight = [66.4, 49.22, 66.3, 88.56, 65.4]\n",
    "np_height = np.array(height)\n",
    "np_weight = np.array(weight)\n",
    "bmi = np_weight / np_height ** 2\n",
    "print(bmi)"
   ]
  },
  {
   "cell_type": "code",
   "execution_count": 3,
   "metadata": {},
   "outputs": [
    {
     "name": "stdout",
     "output_type": "stream",
     "text": [
      "[1, 2, 3, 1, 2, 3]\n",
      "[2 4 6]\n"
     ]
    }
   ],
   "source": [
    "numlist = [1, 2, 3]\n",
    "nparray = np.array([1, 2, 3])\n",
    "print(numlist + numlist)\n",
    "print(nparray + nparray)"
   ]
  },
  {
   "cell_type": "markdown",
   "metadata": {},
   "source": [
    "## ================= Pyplot ================="
   ]
  },
  {
   "cell_type": "code",
   "execution_count": 39,
   "metadata": {},
   "outputs": [
    {
     "data": {
      "image/png": "[encoded data removed]",
      "text/plain": [
       "<Figure size 432x288 with 1 Axes>"
      ]
     },
     "metadata": {
      "needs_background": "light"
     },
     "output_type": "display_data"
    }
   ],
   "source": [
    "from matplotlib import pyplot as plt \n",
    "\n",
    "#x = np.arange(1,5) \n",
    "#x = np.array([1.75, 1, 1.8, 1.81, 1.69])\n",
    "x = np.arange(-10,10) \n",
    "\n",
    "#y = 2 * x + 5\n",
    "#y = (x**2) +x +5\n",
    "y = (3*x)/7\n",
    "plt.title(\"Matplotlib demo\") \n",
    "plt.xlabel(\"x axis caption\") \n",
    "plt.ylabel(\"y axis caption\") \n",
    "#plt.plot(x,y) \n",
    "plt.plot(x,y,\"ob\") \n",
    "\n",
    "plt.show()"
   ]
  },
  {
   "cell_type": "markdown",
   "metadata": {},
   "source": [
    "## ================= Numpy 2D ================="
   ]
  },
  {
   "cell_type": "code",
   "execution_count": 8,
   "metadata": {},
   "outputs": [],
   "source": [
    "np_2d = np.array([\n",
    "    [{\"nama\": \"test\", \"alamat\": \"jakarta\", \n",
    "      \"siswa\": [1.68, 1.8, 1.81, 1.69]}\n",
    "     , 1.68, 1.8, 1.81, 1.69], \n",
    "    [66.4, 49.22, 66.3, 88.56, 65.4]\n",
    "])"
   ]
  },
  {
   "cell_type": "code",
   "execution_count": 11,
   "metadata": {},
   "outputs": [
    {
     "name": "stdout",
     "output_type": "stream",
     "text": [
      "88.56\n",
      "[1.68, 1.8, 1.81, 1.69]\n",
      "[66.4 49.22 66.3 88.56 65.4]\n",
      "[1.68 49.22]\n"
     ]
    }
   ],
   "source": [
    "print(np_2d[1,3])\n",
    "print(np_2d[0][0]['siswa'])\n",
    "print(np_2d[1])\n",
    "print(np_2d[:,1])"
   ]
  },
  {
   "cell_type": "markdown",
   "metadata": {},
   "source": [
    "## ================= Numpy Function ================="
   ]
  },
  {
   "cell_type": "code",
   "execution_count": 188,
   "metadata": {},
   "outputs": [
    {
     "name": "stdout",
     "output_type": "stream",
     "text": [
      "[66.4  49.22 66.3  88.56 65.4 ]\n",
      "49.22\n",
      "67.176\n"
     ]
    }
   ],
   "source": [
    "abc =np.array([66.4, 49.22, 66.3, 88.56, 65.4])\n",
    "print(abc)\n",
    "print(np.min(abc))\n",
    "print(np.mean(abc))\n"
   ]
  },
  {
   "cell_type": "code",
   "execution_count": 204,
   "metadata": {},
   "outputs": [
    {
     "name": "stdout",
     "output_type": "stream",
     "text": [
      "[ 1  6  7 11]\n"
     ]
    }
   ],
   "source": [
    "a = np.array([[1,2,3], [4,5,6], [7,8,9], [10, 11, 12]])\n",
    "b = np.array([0, 2, 0, 1])\n",
    "print(a[np.arange(4), b])"
   ]
  },
  {
   "cell_type": "code",
   "execution_count": 154,
   "metadata": {},
   "outputs": [
    {
     "data": {
      "text/plain": [
       "array([[[ 0.05664367, -1.81578083, -1.29734947],\n",
       "        [ 1.16739771,  1.1114156 , -0.43015389],\n",
       "        [ 0.69374332, -2.35622712,  1.71887063]],\n",
       "\n",
       "       [[ 0.4796008 , -1.25482536,  0.09088824],\n",
       "        [-0.59370739,  2.23371193,  1.14699093],\n",
       "        [-0.32767128, -1.18244253, -1.16065934]],\n",
       "\n",
       "       [[-0.22980785, -0.79701692, -0.16741545],\n",
       "        [ 0.75226323, -1.29987057,  0.48957845],\n",
       "        [ 0.45710648, -0.32638998, -1.23465751]]])"
      ]
     },
     "execution_count": 154,
     "metadata": {},
     "output_type": "execute_result"
    }
   ],
   "source": [
    "np.random.normal(0, 1 , (3,3,3))"
   ]
  },
  {
   "cell_type": "markdown",
   "metadata": {},
   "source": [
    "## ================= Numpy to JSON ================="
   ]
  },
  {
   "cell_type": "code",
   "execution_count": 91,
   "metadata": {},
   "outputs": [
    {
     "name": "stdout",
     "output_type": "stream",
     "text": [
      "[[{'nama': 'test', 'alamat': 'jakarta', 'siswa': [1.68, 1.8, 1.81, 1.69]}\n",
      "  1.68 1.8 1.81 1.69]\n",
      " [66.4 49.22 66.3 88.56 '65.4']]\n",
      "null\n"
     ]
    }
   ],
   "source": [
    "y = json.dumps(print(np_2d))\n",
    "print(y)"
   ]
  }
 ],
 "metadata": {
  "kernelspec": {
   "display_name": "Python 3",
   "language": "python",
   "name": "python3"
  },
  "language_info": {
   "codemirror_mode": {
    "name": "ipython",
    "version": 3
   },
   "file_extension": ".py",
   "mimetype": "text/x-python",
   "name": "python",
   "nbconvert_exporter": "python",
   "pygments_lexer": "ipython3",
   "version": "3.7.3"
  }
 },
 "nbformat": 4,
 "nbformat_minor": 2
}
