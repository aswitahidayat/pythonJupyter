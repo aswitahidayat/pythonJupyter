{
 "cells": [
  {
   "cell_type": "markdown",
   "metadata": {},
   "source": [
    "## ================= Python Method ================= "
   ]
  },
  {
   "cell_type": "code",
   "execution_count": 31,
   "metadata": {},
   "outputs": [
    {
     "name": "stdout",
     "output_type": "stream",
     "text": [
      "[{'NIM': 1234.0, 'Nama': 'Alex', 'Semester': 4.0, 'Kota': 'Jakarta', 'Nilai': 90.0}, {'NIM': 1231.0, 'Nama': 'Firman', 'Semester': 4.0, 'Kota': 'Bekasi', 'Nilai': 88.0}, {'NIM': 5342.0, 'Nama': 'Justin', 'Semester': 5.0, 'Kota': 'Depok', 'Nilai': 78.0}, {'NIM': 2731.0, 'Nama': 'Case', 'Semester': 8.0, 'Kota': 'Depok', 'Nilai': 77.0}, {'NIM': 8902.0, 'Nama': 'Jhon', 'Semester': 1.0, 'Kota': 'Jakarta', 'Nilai': 97.0}]\n"
     ]
    }
   ],
   "source": [
    "def connectF(path):\n",
    "    loc = (path)\n",
    "    wb = xlrd.open_workbook(loc)\n",
    "    sheet = wb.sheet_by_index(0)\n",
    "    return sheet\n",
    "    \n",
    "def readExcel1(path):\n",
    "    sheet = connectF(path)\n",
    "    \n",
    "    studentLis = []\n",
    "    for i in range(1, sheet.nrows, 1):\n",
    "        student = {\n",
    "            \"NIM\": sheet.cell_value(i,2),\n",
    "            \"Nama\": sheet.cell_value(i,0), \n",
    "            \"Semester\": sheet.cell_value(i,1),\n",
    "            \"Kota\": sheet.cell_value(i,3),\n",
    "            \"Nilai\": sheet.cell_value(i,4)\n",
    "        }\n",
    "        studentLis.append(student)\n",
    "    \n",
    "    return studentLis\n",
    "\n",
    "\n",
    "print(readExcel1(\"coba.xls\"))\n",
    "\n"
   ]
  },
  {
   "cell_type": "code",
   "execution_count": 39,
   "metadata": {},
   "outputs": [
    {
     "name": "stdout",
     "output_type": "stream",
     "text": [
      "[{\"Nama\": \"Jhon\", \"Semester\": 1.0, \"NIM\": 8902.0, \"Kota\": \"Jakarta\", \"Nilai\": 97.0}, {\"Nama\": \"Jhon\", \"Semester\": 1.0, \"NIM\": 8902.0, \"Kota\": \"Jakarta\", \"Nilai\": 97.0}, {\"Nama\": \"Jhon\", \"Semester\": 1.0, \"NIM\": 8902.0, \"Kota\": \"Jakarta\", \"Nilai\": 97.0}, {\"Nama\": \"Jhon\", \"Semester\": 1.0, \"NIM\": 8902.0, \"Kota\": \"Jakarta\", \"Nilai\": 97.0}, {\"Nama\": \"Jhon\", \"Semester\": 1.0, \"NIM\": 8902.0, \"Kota\": \"Jakarta\", \"Nilai\": 97.0}]\n"
     ]
    }
   ],
   "source": [
    "import json\n",
    "\n",
    "def toJSON(path):\n",
    "    studentLis = []\n",
    "    sheet = connectF(path)\n",
    "    for i in range(1, sheet.nrows, 1):\n",
    "        student = {}\n",
    "        for j in range(0, sheet.ncols):\n",
    "            student.update({sheet.cell_value(0,j): sheet.cell_value(i,j)})\n",
    "        studentLis.append(stu)\n",
    "    \n",
    "    return json.dumps(studentLis)\n",
    "\n",
    "x= toJSON(\"coba.xls\")\n",
    "print(x)"
   ]
  },
  {
   "cell_type": "code",
   "execution_count": null,
   "metadata": {},
   "outputs": [],
   "source": []
  }
 ],
 "metadata": {
  "kernelspec": {
   "display_name": "Python 3",
   "language": "python",
   "name": "python3"
  },
  "language_info": {
   "codemirror_mode": {
    "name": "ipython",
    "version": 3
   },
   "file_extension": ".py",
   "mimetype": "text/x-python",
   "name": "python",
   "nbconvert_exporter": "python",
   "pygments_lexer": "ipython3",
   "version": "3.6.5"
  }
 },
 "nbformat": 4,
 "nbformat_minor": 2
}
