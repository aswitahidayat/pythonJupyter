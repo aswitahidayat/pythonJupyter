{
 "cells": [
  {
   "cell_type": "code",
   "execution_count": 1,
   "metadata": {},
   "outputs": [],
   "source": [
    "import numpy as np\n",
    "from sklearn.svm import SVR \n",
    "import matplotlib.pyplot as plt \n",
    "import pandas as pd \n",
    "from fastai.tabular import  add_datepart\n",
    "\n",
    "%matplotlib inline"
   ]
  },
  {
   "cell_type": "code",
   "execution_count": 20,
   "metadata": {},
   "outputs": [
    {
     "data": {
      "text/html": [
       "<div>\n",
       "<style scoped>\n",
       "    .dataframe tbody tr th:only-of-type {\n",
       "        vertical-align: middle;\n",
       "    }\n",
       "\n",
       "    .dataframe tbody tr th {\n",
       "        vertical-align: top;\n",
       "    }\n",
       "\n",
       "    .dataframe thead th {\n",
       "        text-align: right;\n",
       "    }\n",
       "</style>\n",
       "<table border=\"1\" class=\"dataframe\">\n",
       "  <thead>\n",
       "    <tr style=\"text-align: right;\">\n",
       "      <th></th>\n",
       "      <th>Date</th>\n",
       "      <th>Open</th>\n",
       "      <th>High</th>\n",
       "      <th>Low</th>\n",
       "      <th>Close</th>\n",
       "      <th>Adj Close</th>\n",
       "      <th>Volume</th>\n",
       "    </tr>\n",
       "  </thead>\n",
       "  <tbody>\n",
       "    <tr>\n",
       "      <th>0</th>\n",
       "      <td>2010-09-01</td>\n",
       "      <td>960.0</td>\n",
       "      <td>1080.0</td>\n",
       "      <td>935.0</td>\n",
       "      <td>1000.0</td>\n",
       "      <td>374.679871</td>\n",
       "      <td>3050570000</td>\n",
       "    </tr>\n",
       "    <tr>\n",
       "      <th>1</th>\n",
       "      <td>2010-10-01</td>\n",
       "      <td>1005.0</td>\n",
       "      <td>1190.0</td>\n",
       "      <td>985.0</td>\n",
       "      <td>1140.0</td>\n",
       "      <td>427.134979</td>\n",
       "      <td>2491565000</td>\n",
       "    </tr>\n",
       "    <tr>\n",
       "      <th>2</th>\n",
       "      <td>2010-11-01</td>\n",
       "      <td>1210.0</td>\n",
       "      <td>1280.0</td>\n",
       "      <td>1050.0</td>\n",
       "      <td>1050.0</td>\n",
       "      <td>393.413879</td>\n",
       "      <td>2589070000</td>\n",
       "    </tr>\n",
       "    <tr>\n",
       "      <th>3</th>\n",
       "      <td>2010-12-01</td>\n",
       "      <td>1085.0</td>\n",
       "      <td>1170.0</td>\n",
       "      <td>980.0</td>\n",
       "      <td>1050.0</td>\n",
       "      <td>393.413879</td>\n",
       "      <td>3709020000</td>\n",
       "    </tr>\n",
       "    <tr>\n",
       "      <th>4</th>\n",
       "      <td>2011-01-01</td>\n",
       "      <td>1035.0</td>\n",
       "      <td>1080.0</td>\n",
       "      <td>905.0</td>\n",
       "      <td>970.0</td>\n",
       "      <td>380.489014</td>\n",
       "      <td>6471570000</td>\n",
       "    </tr>\n",
       "  </tbody>\n",
       "</table>\n",
       "</div>"
      ],
      "text/plain": [
       "         Date    Open    High     Low   Close   Adj Close      Volume\n",
       "0  2010-09-01   960.0  1080.0   935.0  1000.0  374.679871  3050570000\n",
       "1  2010-10-01  1005.0  1190.0   985.0  1140.0  427.134979  2491565000\n",
       "2  2010-11-01  1210.0  1280.0  1050.0  1050.0  393.413879  2589070000\n",
       "3  2010-12-01  1085.0  1170.0   980.0  1050.0  393.413879  3709020000\n",
       "4  2011-01-01  1035.0  1080.0   905.0   970.0  380.489014  6471570000"
      ]
     },
     "execution_count": 20,
     "metadata": {},
     "output_type": "execute_result"
    }
   ],
   "source": [
    "from stockai import Stock\n",
    "\n",
    "td = Stock('TD.TO')\n",
    "prices_list = td.get_historical_prices('2019-01-01', '2019-01-29')\n",
    "\n",
    "# df = pd.DataFrame.from_dict(prices_list)\n",
    "df = pd.read_csv('BBRI-monthly.csv')\n",
    "\n",
    "df.head()"
   ]
  },
  {
   "cell_type": "code",
   "execution_count": 3,
   "metadata": {},
   "outputs": [],
   "source": [
    "def get_data2(df):  \n",
    "    data = df.copy()\n",
    "#     data['date'] = data['date'].str.split('-').str[2]\n",
    "    data['date'] = data['date'].str.replace(\"-\", \"\")\n",
    "\n",
    "    data['date'] = pd.to_numeric(data['date'])\n",
    "    return [ data['date'].tolist(), data['close'].tolist() ] # Convert Series to list\n",
    "\n",
    "#     new_data = pd.DataFrame(index=range(0,len(df)),columns=['Date', 'Close'])\n",
    "#     data = df.copy()\n",
    "#     add_datepart(data, 'date')\n",
    "#     return [ new_data['Dayofyear'].tolist(), data['close'].tolist() ]\n",
    "    \n",
    "# dates, prices = get_data(df)\n",
    "# dates.head()"
   ]
  },
  {
   "cell_type": "code",
   "execution_count": 21,
   "metadata": {},
   "outputs": [
    {
     "name": "stdout",
     "output_type": "stream",
     "text": [
      "[201009, 201010, 201011, 201012, 201101, 201102, 201103, 201104, 201105, 201106, 201107, 201108, 201109, 201110, 201111, 201112, 201201, 201202, 201203, 201204, 201205, 201206, 201207, 201208, 201209, 201210, 201211, 201212, 201301, 201302, 201303, 201304, 201305, 201306, 201307, 201308, 201309, 201310, 201311, 201312, 201401, 201402, 201403, 201404, 201405, 201406, 201407, 201408, 201409, 201410, 201411, 201412, 201501, 201502, 201503, 201504, 201505, 201506, 201507, 201508, 201509, 201510, 201511, 201512, 201601, 201602, 201603, 201604, 201605, 201606, 201607, 201608, 201609, 201610, 201611, 201612, 201701, 201702, 201703, 201704, 201705, 201706, 201707, 201708, 201709, 201710, 201711, 201712, 201801, 201802, 201803, 201804, 201805, 201806, 201807, 201808, 201809, 201810, 201811, 201812, 201901, 201902, 201903, 201904, 201905, 201906, 201907, 201908, 201909]\n"
     ]
    }
   ],
   "source": [
    "def get_data(df):  \n",
    "    data = df.copy()\n",
    "    data['Date'] = data['Date'].str.split('-').str[0] + data['Date'].str.split('-').str[1]\n",
    "    data['Date'] = pd.to_numeric(data['Date'])\n",
    "    return [ data['Date'].tolist(), data['Close'].tolist() ] # Convert Series to list\n",
    "dates, prices = get_data(df)\n",
    "print(dates)"
   ]
  },
  {
   "cell_type": "code",
   "execution_count": 23,
   "metadata": {},
   "outputs": [],
   "source": [
    "def predict_prices(dates, prices, x):\n",
    "    dates = np.reshape(dates,(len(dates), 1)) # convert to 1xn dimension\n",
    "    x = np.reshape(x,(len(x), 1))\n",
    "    \n",
    "    svr_lin  = SVR(kernel='linear', C=1e3)\n",
    "    svr_poly = SVR(kernel='poly', C=1e3, degree=2)\n",
    "    svr_rbf = SVR(kernel='rbf', C=1e3, gamma=0.1)\n",
    "    \n",
    "    # Fit regression model\n",
    "    svr_lin .fit(dates, prices)\n",
    "    svr_poly.fit(dates, prices)\n",
    "    svr_rbf.fit(dates, prices)\n",
    "    \n",
    "    lin = svr_lin.predict(dates)\n",
    "    rbf = svr_rbf.predict(dates)\n",
    "    poly = svr_poly.predict(dates)\n",
    "    \n",
    "    plt.scatter(dates, prices, c='k', label='Data')\n",
    "    plt.plot(dates, lin, c='g', label='Linear model')\n",
    "    plt.plot(dates, rbf, c='r', label='RBF model')    \n",
    "    plt.plot(dates, poly, c='b', label='Polynomial model')\n",
    "    \n",
    "    plt.xlabel('Date')\n",
    "    plt.ylabel('Price')\n",
    "    plt.title('Support Vector Regression')\n",
    "    plt.legend()\n",
    "    plt.show()\n",
    "        \n",
    "    return svr_rbf.predict(x)[0], svr_lin.predict(x)[0], svr_poly.predict(x)[0]"
   ]
  },
  {
   "cell_type": "code",
   "execution_count": null,
   "metadata": {},
   "outputs": [
    {
     "name": "stderr",
     "output_type": "stream",
     "text": [
      "/home/o7yo76yo/anaconda3/lib/python3.7/site-packages/sklearn/svm/base.py:193: FutureWarning: The default value of gamma will change from 'auto' to 'scale' in version 0.22 to account better for unscaled features. Set gamma explicitly to 'auto' or 'scale' to avoid this warning.\n",
      "  \"avoid this warning.\", FutureWarning)\n"
     ]
    }
   ],
   "source": [
    "predicted_price = predict_prices(dates, prices, [201910, 201911, 201912])"
   ]
  },
  {
   "cell_type": "code",
   "execution_count": 8,
   "metadata": {},
   "outputs": [
    {
     "name": "stdout",
     "output_type": "stream",
     "text": [
      "[73.70999908447266, 73.7300033569336]\n"
     ]
    }
   ],
   "source": [
    "from stockai import Stock\n",
    "price = td.get_historical_prices('2019-01-30', '2019-01-31')\n",
    "print(price['close']) "
   ]
  }
 ],
 "metadata": {
  "kernelspec": {
   "display_name": "Python 3",
   "language": "python",
   "name": "python3"
  },
  "language_info": {
   "codemirror_mode": {
    "name": "ipython",
    "version": 3
   },
   "file_extension": ".py",
   "mimetype": "text/x-python",
   "name": "python",
   "nbconvert_exporter": "python",
   "pygments_lexer": "ipython3",
   "version": "3.7.3"
  }
 },
 "nbformat": 4,
 "nbformat_minor": 2
}
