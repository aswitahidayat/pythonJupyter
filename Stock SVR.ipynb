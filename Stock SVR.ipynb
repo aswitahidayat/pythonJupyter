{
 "cells": [
  {
   "cell_type": "code",
   "execution_count": 1,
   "metadata": {},
   "outputs": [],
   "source": [
    "import numpy as np\n",
    "from sklearn.svm import SVR \n",
    "import matplotlib.pyplot as plt \n",
    "import pandas as pd \n",
    "from fastai.tabular import  add_datepart\n",
    "\n",
    "%matplotlib inline"
   ]
  },
  {
   "cell_type": "code",
   "execution_count": null,
   "metadata": {},
   "outputs": [],
   "source": [
    "from stockai import Stock\n",
    "\n",
    "td = Stock('TD.TO')\n",
    "prices_list = td.get_historical_prices('2019-01-02', '2019-01-29')\n",
    "\n",
    "# df = pd.DataFrame.from_dict(prices_list)\n",
    "df = pd.read_csv('BBRI-monthly.csv')\n",
    "\n",
    "df.head()"
   ]
  },
  {
   "cell_type": "code",
   "execution_count": null,
   "metadata": {},
   "outputs": [],
   "source": [
    "# def get_data2(df):  \n",
    "#     data = df.copy()\n",
    "# #     data['date'] = data['date'].str.split('-').str[2]\n",
    "#     data['date'] = data['date'].str.replace(\"-\", \"\")\n",
    "\n",
    "#     data['date'] = pd.to_numeric(data['date'])\n",
    "#     return [ data['date'].tolist(), data['close'].tolist() ] # Convert Series to list\n",
    "\n",
    "#     new_data = pd.DataFrame(index=range(0,len(df)),columns=['Date', 'Close'])\n",
    "#     data = df.copy()\n",
    "#     add_datepart(data, 'date')\n",
    "#     return [ new_data['Dayofyear'].tolist(), data['close'].tolist() ]\n",
    "    \n",
    "# dates, prices = get_data(df)\n",
    "# dates.head()"
   ]
  },
  {
   "cell_type": "code",
   "execution_count": null,
   "metadata": {},
   "outputs": [],
   "source": [
    "data = df.copy()\n",
    "data['Date'] = data['Date'].str.split('-').str[0]\n",
    "data2 = data.groupby(['Date']).mean()\n",
    "\n",
    "# def get_data3(df):  \n",
    "#     data = df.copy()\n",
    "#     data['Date'] = data['Date'].str.split('-').str[0]\n",
    "#     df.groupby(['Date']).mean()\n",
    "#     data['Date'] = pd.to_numeric(data['Date'])\n",
    "#     return [ data['Date'].tolist(), data['Close'].tolist() ] # Convert Series to list\n",
    "# dates, prices = get_data3(df)\n",
    "\n",
    "# print(data2)\n",
    "dates = pd.to_numeric(data2.index).tolist()\n",
    "print(dates)\n",
    "\n",
    "prices = pd.to_numeric(data2['Close']).tolist() \n",
    "print(prices)\n"
   ]
  },
  {
   "cell_type": "code",
   "execution_count": null,
   "metadata": {},
   "outputs": [],
   "source": [
    "# def get_data(df):  \n",
    "#     data = df.copy()\n",
    "#     data['date'] = data['date'].str.split('-').str[2]\n",
    "#     data['date'] = pd.to_numeric(data['date'])\n",
    "#     return [ data['date'].tolist(), data['close'].tolist() ] # Convert Series to list\n",
    "# dates, prices = get_data(df)"
   ]
  },
  {
   "cell_type": "code",
   "execution_count": null,
   "metadata": {},
   "outputs": [],
   "source": [
    "def predict_prices(dates, prices, x):\n",
    "    dates = np.reshape(dates,(len(dates), 1)) # convert to 1xn dimension\n",
    "    x = np.reshape(x,(len(x), 1))\n",
    "    \n",
    "    svr_lin  = SVR(kernel='linear', C=1e3)\n",
    "    svr_poly = SVR(kernel='poly', C=1e3, degree=2)\n",
    "    svr_rbf = SVR(kernel='rbf', C=1e3, gamma=0.1)\n",
    "    \n",
    "    # Fit regression model\n",
    "    svr_lin .fit(dates, prices)\n",
    "    svr_poly.fit(dates, prices)\n",
    "    svr_rbf.fit(dates, prices)\n",
    "    \n",
    "    lin = svr_lin.predict(dates)\n",
    "    rbf = svr_rbf.predict(dates)\n",
    "    poly = svr_poly.predict(dates)\n",
    "    \n",
    "    plt.scatter(dates, prices, c='k', label='Data')\n",
    "    plt.plot(dates, lin, c='g', label='Linear model')\n",
    "    plt.plot(dates, rbf, c='r', label='RBF model')    \n",
    "    plt.plot(dates, poly, c='b', label='Polynomial model')\n",
    "    \n",
    "    plt.xlabel('Date')\n",
    "    plt.ylabel('Price')\n",
    "    plt.title('Support Vector Regression')\n",
    "    plt.legend()\n",
    "    plt.show()\n",
    "        \n",
    "    return svr_rbf.predict(x)[0], svr_lin.predict(x)[0], svr_poly.predict(x)[0]"
   ]
  },
  {
   "cell_type": "code",
   "execution_count": null,
   "metadata": {},
   "outputs": [],
   "source": [
    "predicted_price = predict_prices(dates, prices, [2020])\n"
   ]
  },
  {
   "cell_type": "code",
   "execution_count": null,
   "metadata": {},
   "outputs": [],
   "source": [
    "from stockai import Stock\n",
    "price = td.get_historical_prices('2019-01-30', '2019-01-31')\n",
    "print(price['close']) "
   ]
  }
 ],
 "metadata": {
  "kernelspec": {
   "display_name": "Python 3",
   "language": "python",
   "name": "python3"
  },
  "language_info": {
   "codemirror_mode": {
    "name": "ipython",
    "version": 3
   },
   "file_extension": ".py",
   "mimetype": "text/x-python",
   "name": "python",
   "nbconvert_exporter": "python",
   "pygments_lexer": "ipython3",
   "version": "3.7.3"
  }
 },
 "nbformat": 4,
 "nbformat_minor": 2
}
