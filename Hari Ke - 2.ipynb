{
 "cells": [
  {
   "cell_type": "markdown",
   "metadata": {},
   "source": [
    "\n",
    "## ================= Python For ================= \n"
   ]
  },
  {
   "cell_type": "code",
   "execution_count": 82,
   "metadata": {},
   "outputs": [],
   "source": [
    "alpabet = ['A', 'B', 'C', 'D', 'E']\n",
    "endLoop = \"\\nEnd loop\" \n"
   ]
  },
  {
   "cell_type": "code",
   "execution_count": 83,
   "metadata": {},
   "outputs": [
    {
     "name": "stdout",
     "output_type": "stream",
     "text": [
      "B\n",
      "D\n",
      "\n",
      "End loop\n"
     ]
    }
   ],
   "source": [
    "for i in range( 1, len(alpabet), 2):\n",
    "    print(alpabet[i])\n",
    "print(endLoop)"
   ]
  },
  {
   "cell_type": "code",
   "execution_count": 84,
   "metadata": {},
   "outputs": [
    {
     "name": "stdout",
     "output_type": "stream",
     "text": [
      "A Bukan Huruf Genap\n",
      "B Huruf Genap\n",
      "C Bukan Huruf Genap\n",
      "D Huruf Genap\n",
      "E Bukan Huruf Genap\n",
      "\n",
      "End loop\n"
     ]
    }
   ],
   "source": [
    "for i in range( 0, len(alpabet)):\n",
    "    if (i % 2 == 1):\n",
    "        print(alpabet[i], \"Huruf Genap\")\n",
    "    else:\n",
    "        print(alpabet[i], \"Bukan Huruf Genap\")\n",
    "        \n",
    "print(endLoop)"
   ]
  },
  {
   "cell_type": "markdown",
   "metadata": {},
   "source": [
    "\n",
    "## ================= Python While ================= \n"
   ]
  },
  {
   "cell_type": "code",
   "execution_count": 67,
   "metadata": {},
   "outputs": [
    {
     "name": "stdout",
     "output_type": "stream",
     "text": [
      "A\n",
      "C\n",
      "E\n",
      "\n",
      "End loop\n"
     ]
    }
   ],
   "source": [
    "i = 0\n",
    "while i < (len(alpabet)):\n",
    "    print(alpabet[i])\n",
    "    i += 2\n",
    "print(endLoop)"
   ]
  },
  {
   "cell_type": "markdown",
   "metadata": {},
   "source": [
    "## ================= Python Xlrd (Excel) ================= \n"
   ]
  },
  {
   "cell_type": "code",
   "execution_count": 69,
   "metadata": {},
   "outputs": [],
   "source": [
    "import xlrd\n",
    "\n",
    "loc = (\"coba.xls\")\n",
    "wb = xlrd.open_workbook(loc)\n",
    "sheet = wb.sheet_by_index(0)\n",
    "\n",
    "#sheet.cell_value(0,0)"
   ]
  },
  {
   "cell_type": "code",
   "execution_count": 77,
   "metadata": {},
   "outputs": [
    {
     "name": "stdout",
     "output_type": "stream",
     "text": [
      "Nama  :  Alex\n",
      "Semester  :  4.0\n",
      "NIM  :  1234.0\n",
      "Kota  :  Jakarta\n",
      "Nilai  :  90.0\n",
      "Nama  :  Firman\n",
      "Semester  :  4.0\n",
      "NIM  :  1231.0\n",
      "Kota  :  Bekasi\n",
      "Nilai  :  88.0\n",
      "Nama  :  Justin\n",
      "Semester  :  5.0\n",
      "NIM  :  5342.0\n",
      "Kota  :  Depok\n",
      "Nilai  :  78.0\n",
      "Nama  :  Case\n",
      "Semester  :  8.0\n",
      "NIM  :  2731.0\n",
      "Kota  :  Depok\n",
      "Nilai  :  77.0\n",
      "Nama  :  Jhon\n",
      "Semester  :  1.0\n",
      "NIM  :  8902.0\n",
      "Kota  :  Jakarta\n",
      "Nilai  :  97.0\n"
     ]
    }
   ],
   "source": [
    "for i in range(1, sheet.nrows):\n",
    "    #if(sheet.cell_value(i,0) == 'Firman'):\n",
    "        for j in range(0, sheet.ncols):\n",
    "            print(sheet.cell_value(0,j),\" : \",sheet.cell_value(i,j))"
   ]
  },
  {
   "cell_type": "code",
   "execution_count": 71,
   "metadata": {},
   "outputs": [
    {
     "name": "stdout",
     "output_type": "stream",
     "text": [
      "['Alex', 'Firman', 'Justin', 'Case', 'Jhon']\n",
      "[4.0, 4.0, 5.0, 8.0, 1.0]\n",
      "[1234.0, 1231.0, 5342.0, 2731.0, 8902.0]\n"
     ]
    }
   ],
   "source": [
    "nama = []\n",
    "semster = []\n",
    "nim = []\n",
    "\n",
    "for i in range(1, sheet.nrows, 1):\n",
    "    nama.append(sheet.cell_value(i,0))\n",
    "    semster.append(sheet.cell_value(i,1))\n",
    "    nim.append(sheet.cell_value(i,2))\n",
    "\n",
    "print(nama)\n",
    "print(semster)\n",
    "print(nim)"
   ]
  },
  {
   "cell_type": "code",
   "execution_count": 87,
   "metadata": {},
   "outputs": [
    {
     "name": "stdout",
     "output_type": "stream",
     "text": [
      "[{\"NIM\": 1234.0, \"Nama\": \"Alex\", \"Semester\": 4.0, \"Kota\": \"Jakarta\", \"Nilai\": 90.0}, {\"NIM\": 1231.0, \"Nama\": \"Firman\", \"Semester\": 4.0, \"Kota\": \"Bekasi\", \"Nilai\": 88.0}, {\"NIM\": 5342.0, \"Nama\": \"Justin\", \"Semester\": 5.0, \"Kota\": \"Depok\", \"Nilai\": 78.0}, {\"NIM\": 2731.0, \"Nama\": \"Case\", \"Semester\": 8.0, \"Kota\": \"Depok\", \"Nilai\": 77.0}, {\"NIM\": 8902.0, \"Nama\": \"Jhon\", \"Semester\": 1.0, \"Kota\": \"Jakarta\", \"Nilai\": 97.0}]\n"
     ]
    }
   ],
   "source": [
    "import json\n",
    "\n",
    "studentLis = []\n",
    "for i in range(1, sheet.nrows, 1):\n",
    "    student = {\n",
    "        \"NIM\": sheet.cell_value(i,2),\n",
    "        \"Nama\": sheet.cell_value(i,0), \n",
    "        \"Semester\": sheet.cell_value(i,1),\n",
    "        \"Kota\": sheet.cell_value(i,3),\n",
    "        \"Nilai\": sheet.cell_value(i,4)\n",
    "    }\n",
    "    studentLis.append(student)\n",
    "x= json.dumps(studentLis)\n",
    "print(x)"
   ]
  },
  {
   "cell_type": "code",
   "execution_count": null,
   "metadata": {},
   "outputs": [],
   "source": []
  }
 ],
 "metadata": {
  "kernelspec": {
   "display_name": "Python 3",
   "language": "python",
   "name": "python3"
  },
  "language_info": {
   "codemirror_mode": {
    "name": "ipython",
    "version": 3
   },
   "file_extension": ".py",
   "mimetype": "text/x-python",
   "name": "python",
   "nbconvert_exporter": "python",
   "pygments_lexer": "ipython3",
   "version": "3.6.5"
  }
 },
 "nbformat": 4,
 "nbformat_minor": 2
}
